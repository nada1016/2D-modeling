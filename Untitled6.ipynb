{
 "cells": [
  {
   "cell_type": "code",
   "execution_count": 1,
   "id": "4821e303-a804-4ef0-b5c4-f8c757b9260a",
   "metadata": {},
   "outputs": [],
   "source": [
    "import numpy as np\n",
    "import matplotlib.pyplot as plt\n",
    "from drawnow import*"
   ]
  },
  {
   "cell_type": "code",
   "execution_count": 2,
   "id": "12a582be-63fd-455b-a210-354fa1f7b58b",
   "metadata": {},
   "outputs": [],
   "source": [
    "m_width = 100\n",
    "m_depth = 100\n",
    "\n",
    "dx = 1.\n",
    "dz = dx\n",
    "\n",
    "mnx = int(m_width/dx)\n",
    "mnz = int(m_depth/dz)\n",
    "\n",
    "t_total = 1\n",
    "dt = 1e-4\n",
    "nt = round(t_total/dt)\n",
    "abs_thick = 100\n",
    "\n",
    "#nx = int(2.0 * abs_thick + mnx)\n",
    "#nz = int(abs_thick + mnz)\n",
    "nx = mnx\n",
    "nz = mnz\n"
   ]
  },
  {
   "cell_type": "code",
   "execution_count": 3,
   "id": "68a879ed-daf7-47a1-b1a8-18fa716cad60",
   "metadata": {},
   "outputs": [],
   "source": [
    "v = np.ones((mnz,mnx))*1500 \n",
    "vp=np.ones((nz,nx))*1500      # with padding\n"
   ]
  },
  {
   "cell_type": "code",
   "execution_count": 4,
   "id": "6fbb0c45-b714-45f2-b1e1-6afcc13262ff",
   "metadata": {},
   "outputs": [
    {
     "data": {
      "text/plain": [
       "<matplotlib.collections.PathCollection at 0x1360a6d6f88>"
      ]
     },
     "execution_count": 4,
     "metadata": {},
     "output_type": "execute_result"
    },
    {
     "data": {
      "image/png": "[encoded data removed]",
      "text/plain": [
       "<Figure size 500x500 with 2 Axes>"
      ]
     },
     "metadata": {},
     "output_type": "display_data"
    }
   ],
   "source": [
    "sx = round(nx/2)\n",
    "sz = round(nz/2)\n",
    "isx = int(sx/dx)\n",
    "isz = int(sz/dz)\n",
    "\n",
    "#rx = np.arange(1,nx,5)\n",
    "#irx = (rx/dx).astype(np.int16)\n",
    "rx = sx\n",
    "rz = sz\n",
    "irx = int(rx/dx)\n",
    "irz = int(rz/dz)\n",
    "#nrcv= len(rx)\n",
    "\n",
    "fig,ax = plt.subplots(figsize=(5,5))\n",
    "im=ax.imshow(vp)\n",
    "fig.colorbar(im,label='velocity (m/s)')\n",
    "ax.scatter(isx,isz,s=8,c='r') # source plot\n",
    "ax.scatter(irx,irz,s=1,c='y') # receiver plot"
   ]
  },
  {
   "cell_type": "code",
   "execution_count": 5,
   "id": "5ab669cf-39dd-4fd6-bf63-7f8095fb8999",
   "metadata": {},
   "outputs": [],
   "source": [
    "fmax=30\n",
    "rtype = np.float32\n",
    "\n",
    "def ricker(nt,dt,fmax,rtype):\n",
    "    fdom=fmax/3;\n",
    "    factor=1; t0=0.2#1.2/fdom; \n",
    "    a=(np.pi*fdom)**2\n",
    "    ricker=np.zeros((nt),rtype)\n",
    "    for it in np.arange(nt):\n",
    "        dm = a*((it*dt-t0)**2)\n",
    "        ricker[it] = factor*(1-(2*dm))*np.exp(-dm)\n",
    "    source=ricker\n",
    "    return source \n",
    "\n",
    "source=ricker(nt,dt,fmax,rtype)"
   ]
  },
  {
   "cell_type": "code",
   "execution_count": 6,
   "id": "bfe5e2c7-8e22-4892-8422-254426734b4c",
   "metadata": {},
   "outputs": [
    {
     "name": "stdout",
     "output_type": "stream",
     "text": [
      "it= 1 // 10000\n",
      "it= 101 // 10000\n",
      "it= 201 // 10000\n",
      "it= 301 // 10000\n",
      "it= 401 // 10000\n",
      "it= 501 // 10000\n",
      "it= 601 // 10000\n",
      "it= 701 // 10000\n",
      "it= 801 // 10000\n",
      "it= 901 // 10000\n",
      "it= 1001 // 10000\n",
      "it= 1101 // 10000\n",
      "it= 1201 // 10000\n",
      "it= 1301 // 10000\n",
      "it= 1401 // 10000\n",
      "it= 1501 // 10000\n",
      "it= 1601 // 10000\n",
      "it= 1701 // 10000\n",
      "it= 1801 // 10000\n",
      "it= 1901 // 10000\n",
      "it= 2001 // 10000\n",
      "it= 2101 // 10000\n",
      "it= 2201 // 10000\n",
      "it= 2301 // 10000\n",
      "it= 2401 // 10000\n",
      "it= 2501 // 10000\n",
      "it= 2601 // 10000\n",
      "it= 2701 // 10000\n",
      "it= 2801 // 10000\n",
      "it= 2901 // 10000\n",
      "it= 3001 // 10000\n",
      "it= 3101 // 10000\n",
      "it= 3201 // 10000\n",
      "it= 3301 // 10000\n",
      "it= 3401 // 10000\n",
      "it= 3501 // 10000\n",
      "it= 3601 // 10000\n",
      "it= 3701 // 10000\n",
      "it= 3801 // 10000\n",
      "it= 3901 // 10000\n",
      "it= 4001 // 10000\n",
      "it= 4101 // 10000\n",
      "it= 4201 // 10000\n",
      "it= 4301 // 10000\n",
      "it= 4401 // 10000\n",
      "it= 4501 // 10000\n",
      "it= 4601 // 10000\n",
      "it= 4701 // 10000\n",
      "it= 4801 // 10000\n",
      "it= 4901 // 10000\n",
      "it= 5001 // 10000\n",
      "it= 5101 // 10000\n",
      "it= 5201 // 10000\n",
      "it= 5301 // 10000\n",
      "it= 5401 // 10000\n",
      "it= 5501 // 10000\n",
      "it= 5601 // 10000\n",
      "it= 5701 // 10000\n",
      "it= 5801 // 10000\n",
      "it= 5901 // 10000\n",
      "it= 6001 // 10000\n",
      "it= 6101 // 10000\n",
      "it= 6201 // 10000\n",
      "it= 6301 // 10000\n",
      "it= 6401 // 10000\n",
      "it= 6501 // 10000\n",
      "it= 6601 // 10000\n",
      "it= 6701 // 10000\n",
      "it= 6801 // 10000\n",
      "it= 6901 // 10000\n",
      "it= 7001 // 10000\n",
      "it= 7101 // 10000\n",
      "it= 7201 // 10000\n",
      "it= 7301 // 10000\n",
      "it= 7401 // 10000\n",
      "it= 7501 // 10000\n",
      "it= 7601 // 10000\n",
      "it= 7701 // 10000\n",
      "it= 7801 // 10000\n",
      "it= 7901 // 10000\n",
      "it= 8001 // 10000\n",
      "it= 8101 // 10000\n",
      "it= 8201 // 10000\n",
      "it= 8301 // 10000\n",
      "it= 8401 // 10000\n",
      "it= 8501 // 10000\n",
      "it= 8601 // 10000\n",
      "it= 8701 // 10000\n",
      "it= 8801 // 10000\n",
      "it= 8901 // 10000\n",
      "it= 9001 // 10000\n",
      "it= 9101 // 10000\n",
      "it= 9201 // 10000\n",
      "it= 9301 // 10000\n",
      "it= 9401 // 10000\n",
      "it= 9501 // 10000\n",
      "it= 9601 // 10000\n",
      "it= 9701 // 10000\n",
      "it= 9801 // 10000\n",
      "it= 9901 // 10000\n"
     ]
    }
   ],
   "source": [
    "wavefield=np.zeros((nt,nz,nx))\n",
    "order=1\n",
    "dx2 = dx**2\n",
    "dz2=dz**2\n",
    "u1=np.zeros((nz+2*order,nx+2*order))\n",
    "u2=np.zeros_like(u1)\n",
    "u3=np.zeros_like(u1)\n",
    "\n",
    "for it in np.arange(1,nt):\n",
    "    if (it%100==1):\n",
    "        print ( \"it=\",it,\"//\",nt)\n",
    "    for ix in np.arange(nx):\n",
    "        for iz in np.arange(nz):\n",
    "            diff_x = (u2[iz+order,ix+order+1] - 2*u2[iz+order,ix+order] + u2[iz+order,ix+order-1])/dx2\n",
    "            diff_z = (u2[iz+order+1,ix+order] - 2*u2[iz+order,ix+order] + u2[iz+order-1,ix+order])/dz2\n",
    "            diff_t = 2*u2[iz+order,ix+order] - u1[iz+order,ix+order]\n",
    "            vdt = vp[iz,ix]*dt\n",
    "            vdt2 = vdt**2\n",
    "            u3[iz+order,ix+order] = vdt2*(diff_x+diff_z) + diff_t\n",
    "    u3[isz+order,isx+order] +=  source[it]  \n",
    "    wavefield[it,:,:] = np.copy(u3[order:nz+order,order:order+nx])\n",
    "    u1=np.copy(u2)\n",
    "    u2=np.copy(u3)\n",
    "    u3=np.zeros_like(u1)\n",
    "\n"
   ]
  },
  {
   "cell_type": "code",
   "execution_count": 7,
   "id": "eeea85aa-d840-44fa-b224-16742cc9c243",
   "metadata": {
    "tags": []
   },
   "outputs": [
    {
     "data": {
      "text/plain": [
       "<matplotlib.colorbar.Colorbar at 0x1360a730708>"
      ]
     },
     "execution_count": 7,
     "metadata": {},
     "output_type": "execute_result"
    },
    {
     "data": {
      "image/png": "[encoded data removed]",
      "text/plain": [
       "<Figure size 500x500 with 2 Axes>"
      ]
     },
     "metadata": {},
     "output_type": "display_data"
    }
   ],
   "source": [
    "fig,ax = plt.subplots(figsize=(5,5))\n",
    "im=ax.imshow(wavefield[100,:,:],aspect='auto')\n",
    "fig.colorbar(im,label='Amplitude')"
   ]
  },
  {
   "cell_type": "code",
   "execution_count": 8,
   "id": "b50739af-0a21-4729-9181-eb40e424cc41",
   "metadata": {
    "tags": []
   },
   "outputs": [
    {
     "data": {
      "text/plain": [
       "<Figure size 640x480 with 0 Axes>"
      ]
     },
     "metadata": {},
     "output_type": "display_data"
    }
   ],
   "source": [
    "wm=np.max(wavefield)\n",
    "\n",
    "x=np.linspace(1,mnx)\n",
    "y=np.linspace(1,mnz)\n",
    "#z = np.zeros((wm,wm))\n",
    "\n",
    "fig = plt.figure(1)\n",
    "\n",
    "def show_plot():\n",
    "    ax = fig.add_subplot(111,projection='3d')\n",
    "    #ax.plot_surface(x,y,z)\n",
    "    #ax.set_xlim((1,mnx))\n",
    "    #ax.set_ylim((1,mnz))\n",
    "    #ax.set_zlim((-wm,wm))\n",
    "   \n",
    "    pan = 30\n",
    "    tilt = 60\n",
    "    ax.view_init(pan,tilt)\n",
    "\n",
    "    drawnow(wavefield)"
   ]
  },
  {
   "cell_type": "code",
   "execution_count": null,
   "id": "a38a72b9-c9f0-4c12-9bbd-8bc53f7f0182",
   "metadata": {},
   "outputs": [],
   "source": []
  }
 ],
 "metadata": {
  "kernelspec": {
   "display_name": "Python 3 (ipykernel)",
   "language": "python",
   "name": "python3"
  },
  "language_info": {
   "codemirror_mode": {
    "name": "ipython",
    "version": 3
   },
   "file_extension": ".py",
   "mimetype": "text/x-python",
   "name": "python",
   "nbconvert_exporter": "python",
   "pygments_lexer": "ipython3",
   "version": "3.7.6"
  }
 },
 "nbformat": 4,
 "nbformat_minor": 5
}
